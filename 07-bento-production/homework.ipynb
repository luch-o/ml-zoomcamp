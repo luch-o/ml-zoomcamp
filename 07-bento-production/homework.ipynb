{
 "cells": [
  {
   "cell_type": "markdown",
   "metadata": {},
   "source": [
    "# Week 7: BentoML for Production Homework\n",
    "\n",
    "The goal of this homework is to familiarize you with BentoML and how to build and test an ML production service."
   ]
  },
  {
   "cell_type": "markdown",
   "metadata": {},
   "source": [
    "## Email from your manager\n",
    "\n",
    "Good morning recruit! It's good to have you here! I have an assignment for you. I have a data scientist that's built\n",
    "a credit risk model in a jupyter notebook. I need you to run the notebook and save the model with BentoML and see\n",
    "how big the model is. If it's greater than a certain size, I'm going to have to request additional resources from \n",
    "our infra team. Please let me know how big it is.\n",
    "\n",
    "Thanks,\n",
    "\n",
    "Mr McManager\n",
    "\n",
    "\n",
    "## Question 1\n",
    "\n",
    "* Install BentoML\n",
    "* What's the version of BentoML you installed?\n",
    "* Use `--version` to find out"
   ]
  },
  {
   "cell_type": "markdown",
   "metadata": {},
   "source": [
    "Use the following commands\n",
    "\n",
    "```bash\n",
    "# install\n",
    "$ pip install bentoml\n",
    "...\n",
    "# check version\n",
    "$ bentoml --version\n",
    "bentoml, version 1.0.7\n",
    "```"
   ]
  },
  {
   "cell_type": "markdown",
   "metadata": {},
   "source": [
    "**Answer:** 1.0.7"
   ]
  },
  {
   "cell_type": "markdown",
   "metadata": {},
   "source": [
    "\n",
    "## Question 2\n",
    "\n",
    "Run the notebook which contains the xgboost model from module 6 i.e previous module and save the xgboost model with BentoML. To make it easier for you we have prepared this [notebook](https://github.com/alexeygrigorev/mlbookcamp-code/blob/master/course-zoomcamp/07-bentoml-production/code/train.ipynb). \n",
    "\n",
    "\n",
    "How big approximately is the saved BentoML model? Size can slightly vary depending on your local development environment.\n",
    "Choose the size closest to your model.\n",
    "\n",
    "* 924kb\n",
    "* 724kb\n",
    "* 114kb\n",
    "* 8kb\n"
   ]
  },
  {
   "cell_type": "markdown",
   "metadata": {},
   "source": [
    "After running the notebook provided to train and save the model, use the command:\n",
    "\n",
    "```bash\n",
    "$ bentoml models list\n",
    "Tag                                 Module           Size        Creation Time       \n",
    "credit_risk_model:frtuzpcxcox6ndkh  bentoml.xgboost  116.30 KiB  2022-10-28 17:52:17 \n",
    "```"
   ]
  },
  {
   "cell_type": "markdown",
   "metadata": {},
   "source": [
    "**Answer:** actual model size 116.30 KiB, most near with the options given 114 Kb"
   ]
  },
  {
   "cell_type": "markdown",
   "metadata": {},
   "source": [
    "## Another email from your manager\n",
    "\n",
    "Great job recruit! Looks like I won't be having to go back to the procurement team. Thanks for the information.\n",
    "\n",
    "However, I just got word from one of the teams that's using one of our ML services and they're saying our service is \"broken\"\n",
    "and their trying to blame our model. I looked at the data their sending and it's completely bogus. I don't want them\n",
    "to send bad data to us and blame us for our models. Could you write a pydantic schema for the data that they should be sending?\n",
    "That way next time it will tell them it's their data that's bad and not our model.\n",
    "\n",
    "Thanks,\n",
    "\n",
    "Mr McManager\n",
    "\n",
    "## Question 3\n",
    "\n",
    "Say you have the following data that you're sending to your service:\n",
    "\n",
    "```json\n",
    "{\n",
    "  \"name\": \"Tim\",\n",
    "  \"age\": 37,\n",
    "  \"country\": \"US\",\n",
    "  \"rating\": 3.14\n",
    "}\n",
    "```\n",
    "\n",
    "What would the pydantic class look like? You can name the class `UserProfile`."
   ]
  },
  {
   "cell_type": "markdown",
   "metadata": {},
   "source": [
    "Using a pydantic model and builtin data types:\n",
    "\n",
    "```python\n",
    "from pydantic import BaseModel\n",
    "\n",
    "\n",
    "class UserProfile(BaseModel):\n",
    "    name: str\n",
    "    age: int\n",
    "    country: str\n",
    "    rating: float\n",
    "```"
   ]
  },
  {
   "cell_type": "markdown",
   "metadata": {},
   "source": [
    "## Email from your CEO\n",
    "\n",
    "Good morning! I hear you're the one to go to if I need something done well! We've got a new model that a big client\n",
    "needs deployed ASAP. I need you to build a service with it and test it against the old model and make sure that it performs\n",
    "better, otherwise we're going to lose this client. All our hopes are with you!\n",
    "\n",
    "Thanks,\n",
    "\n",
    "CEO of Acme Corp\n",
    "\n",
    "## Question 4\n",
    "\n",
    "We've prepared a model for you that you can import using:\n",
    "\n",
    "```bash\n",
    "curl -O https://s3.us-west-2.amazonaws.com/bentoml.com/mlzoomcamp/coolmodel.bentomodel\n",
    "bentoml models import coolmodel.bentomodel\n",
    "```\n",
    "\n",
    "What version of scikit-learn was this model trained with?\n",
    "\n",
    "* 1.1.1\n",
    "* 1.1.2\n",
    "* 1.1.3\n",
    "* 1.1.4\n",
    "* 1.1.5"
   ]
  },
  {
   "cell_type": "markdown",
   "metadata": {},
   "source": [
    "After downloading and importing the model with the commands provided, run \n",
    "\n",
    "```bash\n",
    "# find out the model tag\n",
    "$ bentoml models list\n",
    " Tag                                   Module           Size        Creation Time       \n",
    " credit_risk_model:frtuzpcxcox6ndkh    bentoml.xgboost  116.30 KiB  2022-10-28 17:52:17 \n",
    " mlzoomcamp_homework:qtzdz3slg6mwwdu5  bentoml.sklearn  5.79 KiB    2022-10-13 15:42:14 \n",
    "# get the model details\n",
    "$ bentoml models get mlzoomcap_homework:latest\n",
    "```\n",
    "```yaml\n",
    "name: mlzoomcamp_homework                                                                                                                                                                   \n",
    "version: qtzdz3slg6mwwdu5                                                                                                                                                                    \n",
    "module: bentoml.sklearn                                                                                                                                                                      \n",
    "labels: {}                                                                                                                                                                                   \n",
    "options: {}                                                                                                                                                                                  \n",
    "metadata: {}                                                                                                                                                                                 \n",
    "context:                                                                                                                                                                                     \n",
    "  framework_name: sklearn                                                                                                                                                                    \n",
    "  framework_versions:                                                                                                                                                                        \n",
    "    scikit-learn: 1.1.1                                                                                                                                                                      \n",
    "  bentoml_version: 1.0.7                                                                                                                                                                     \n",
    "  python_version: 3.9.12                                                                                                                                                                     \n",
    "signatures:                                                                                                                                                                                  \n",
    "  predict:                                                                                                                                                                                   \n",
    "    batchable: false                                                                                                                                                                         \n",
    "api_version: v1                                                                                                                                                                              \n",
    "creation_time: '2022-10-13T20:42:14.411084+00:00'   \n",
    "```"
   ]
  },
  {
   "cell_type": "markdown",
   "metadata": {},
   "source": [
    "**Answer:** 1.1.1"
   ]
  },
  {
   "cell_type": "markdown",
   "metadata": {},
   "source": [
    "## Question 5 \n",
    "\n",
    "Create a bento out of this scikit-learn model. The output type for this endpoint should be `NumpyNdarray()`\n",
    "\n",
    "Send this array to the Bento:\n",
    "\n",
    "```\n",
    "[[6.4,3.5,4.5,1.2]]\n",
    "```\n",
    "\n",
    "You can use curl or the Swagger UI. What value does it return? \n",
    "\n",
    "* 0\n",
    "* 1\n",
    "* 2\n",
    "* 3\n",
    "\n",
    "(Make sure your environment has Scikit-Learn installed) \n"
   ]
  },
  {
   "cell_type": "markdown",
   "metadata": {},
   "source": [
    "First we write our service code:\n",
    "\n",
    "```python\n",
    "import bentoml\n",
    "from bentoml.io import NumpyNdarray, JSON\n",
    "\n",
    "model_ref = bentoml.sklearn.get(\"mlzoomcamp_homework:latest\")\n",
    "model_runner = model_ref.to_runner()\n",
    "\n",
    "service = bentoml.Service(\"mlzoomcamp_homework\", runners=[model_runner])\n",
    "\n",
    "@service.api(input=NumpyNdarray(), output=NumpyNdarray())\n",
    "def predict(vector):\n",
    "    prediction = model_runner.predict.run(vector)\n",
    "    return prediction\n",
    "\n",
    "```\n",
    "\n",
    "Then we can run it with the command given we called the service code `service.py`\n",
    "```bash\n",
    "$ bentoml serve service.service\n",
    "```\n",
    "\n",
    "We can make a request to our service with `curl` with the following command:\n",
    "```bash\n",
    "$ curl -X 'POST' \\\n",
    "  'http://0.0.0.0:3000/predict' \\\n",
    "  -H 'accept: application/json' \\\n",
    "  -H 'Content-Type: application/json' \\\n",
    "  -d '[[6.4,3.5,4.5,1.2]]'\n",
    "[1]\n",
    "```"
   ]
  },
  {
   "cell_type": "markdown",
   "metadata": {},
   "source": [
    "**Answer:** 1"
   ]
  },
  {
   "cell_type": "markdown",
   "metadata": {},
   "source": [
    "## Question 6\n",
    "\n",
    "Ensure to serve your bento with `--production` for this question\n",
    "\n",
    "Install locust using:\n",
    "\n",
    "```bash\n",
    "pip install locust\n",
    "```\n",
    "\n",
    "Use the following locust file: [locustfile.py](https://github.com/alexeygrigorev/mlbookcamp-code/blob/master/course-zoomcamp/cohorts/2022/07-bento-production/locustfile.py)\n",
    "\n",
    "Ensure that it is pointed at your bento's endpoint (In case you didn't name your endpoint \"classify\")\n",
    "\n",
    "<img src=\"https://raw.githubusercontent.com/alexeygrigorev/mlbookcamp-code/master/course-zoomcamp/cohorts/2022/07-bento-production/resources/classify-endpoint.png\">\n",
    "\n",
    "Configure 100 users with ramp time of 10 users per second. Click \"Start Swarming\" and ensure that it is working.\n",
    "\n",
    "Now download a second model with this command:\n",
    "\n",
    "```bash\n",
    "curl -O https://s3.us-west-2.amazonaws.com/bentoml.com/mlzoomcamp/coolmodel2.bentomodel\n",
    "```\n",
    "\n",
    "Or you can download with this link as well:\n",
    "[https://s3.us-west-2.amazonaws.com/bentoml.com/mlzoomcamp/coolmodel2.bentomodel](https://s3.us-west-2.amazonaws.com/bentoml.com/mlzoomcamp/coolmodel2.bentomodel)\n",
    "\n",
    "Now import the model:\n",
    "\n",
    "```bash\n",
    "bentoml models import coolmodel2.bentomodel\n",
    "```\n",
    "\n",
    "Update your bento's runner tag and test with both models. Which model allows more traffic (more throughput) as you ramp up the traffic?\n",
    "\n",
    "**Hint 1**: Remember to turn off and turn on your bento service between changing the model tag. Use Ctl-C to close the service in between trials.\n",
    "\n",
    "**Hint 2**: Increase the number of concurrent users to see which one has higher throughput\n",
    "\n",
    "Which model has better performance at higher volumes?\n",
    "\n",
    "* The first model\n",
    "* The second model\n"
   ]
  },
  {
   "cell_type": "markdown",
   "metadata": {},
   "source": [
    "Testing both models at peak concurrency of 20k and spawn rate of 500:"
   ]
  },
  {
   "cell_type": "code",
   "execution_count": 14,
   "metadata": {},
   "outputs": [
    {
     "data": {
      "image/png": "[encoded data removed]",
      "text/plain": [
       "<Figure size 640x480 with 1 Axes>"
      ]
     },
     "metadata": {},
     "output_type": "display_data"
    }
   ],
   "source": [
    "import pandas as pd\n",
    "\n",
    "results = pd.concat([\n",
    "    pd.read_csv(\"model1_loadtest.csv\").dropna(),\n",
    "    pd.read_csv(\"model2_loadtest.csv\").dropna(),\n",
    "]).reset_index(drop=True)\n",
    "\n",
    "results[[\n",
    "    \"Median Response Time\",\n",
    "    \"Average Response Time\"\n",
    "]].T.plot(kind=\"bar\");"
   ]
  },
  {
   "cell_type": "markdown",
   "metadata": {},
   "source": [
    "## Email from marketing\n",
    "\n",
    "Hello ML person! I hope this email finds you well. I've heard there's this cool new ML model called Stable Diffusion.\n",
    "I hear if you give it a description of a picture it will generate an image. We need a new company logo and I want it\n",
    "to be fierce but also cool, think you could help out?\n",
    "\n",
    "Thanks,\n",
    "\n",
    "Mike Marketer"
   ]
  }
 ],
 "metadata": {
  "kernelspec": {
   "display_name": "Python 3.9.13 ('ml-zoomcamp')",
   "language": "python",
   "name": "python3"
  },
  "language_info": {
   "codemirror_mode": {
    "name": "ipython",
    "version": 3
   },
   "file_extension": ".py",
   "mimetype": "text/x-python",
   "name": "python",
   "nbconvert_exporter": "python",
   "pygments_lexer": "ipython3",
   "version": "3.9.13"
  },
  "orig_nbformat": 4,
  "vscode": {
   "interpreter": {
    "hash": "8d54479cb3a8e1ef17d0cab73b343a44497845d57ad36d706360fe35fa8ae76a"
   }
  }
 },
 "nbformat": 4,
 "nbformat_minor": 2
}
